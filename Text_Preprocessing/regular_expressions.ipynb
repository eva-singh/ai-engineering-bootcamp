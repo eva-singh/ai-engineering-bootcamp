{
 "cells": [
  {
   "cell_type": "code",
   "execution_count": 1,
   "id": "7b4e6382",
   "metadata": {},
   "outputs": [],
   "source": [
    "import re"
   ]
  },
  {
   "cell_type": "code",
   "execution_count": 2,
   "id": "6b6eaa98",
   "metadata": {},
   "outputs": [
    {
     "name": "stdout",
     "output_type": "stream",
     "text": [
      "<re.Match object; span=(22, 29), match='pattern'>\n"
     ]
    }
   ],
   "source": [
    "search_pat=re.search(\"pattern\", \"string to contain the pattern\")\n",
    "print(search_pat)"
   ]
  },
  {
   "cell_type": "code",
   "execution_count": 6,
   "id": "23401f24",
   "metadata": {},
   "outputs": [
    {
     "name": "stdout",
     "output_type": "stream",
     "text": [
      "Hello, i wanted to have a cha with Sarah real quick\n"
     ]
    }
   ],
   "source": [
    "string=\"Hello, i wanted to have a cha with sara real quick\"\n",
    "new_str=re.sub('sara', 'Sarah', string)\n",
    "print(new_str)"
   ]
  },
  {
   "cell_type": "code",
   "execution_count": 7,
   "id": "ca270afc",
   "metadata": {},
   "outputs": [
    {
     "name": "stdout",
     "output_type": "stream",
     "text": [
      "['sara says she like the skirt', 'sara praises the top in baby blue']\n"
     ]
    }
   ],
   "source": [
    "cust_reviews=['sara says she like the skirt', 'john woul dlike to buy the orange pants','sara praises the top in baby blue']\n",
    "sarahs_reviews=[]\n",
    "pattern_to_find=r\"sarah?\"\n",
    "for string in cust_reviews:\n",
    "    if re.search(pattern_to_find, string):\n",
    "        sarahs_reviews.append(string)\n",
    "\n",
    "print(sarahs_reviews)\n"
   ]
  }
 ],
 "metadata": {
  "kernelspec": {
   "display_name": "nlp_env",
   "language": "python",
   "name": "python3"
  },
  "language_info": {
   "codemirror_mode": {
    "name": "ipython",
    "version": 3
   },
   "file_extension": ".py",
   "mimetype": "text/x-python",
   "name": "python",
   "nbconvert_exporter": "python",
   "pygments_lexer": "ipython3",
   "version": "3.9.23"
  }
 },
 "nbformat": 4,
 "nbformat_minor": 5
}
