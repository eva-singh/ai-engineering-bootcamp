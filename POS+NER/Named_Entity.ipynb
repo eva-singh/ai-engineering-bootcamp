{
 "cells": [
  {
   "cell_type": "code",
   "execution_count": 2,
   "id": "8e15336d",
   "metadata": {},
   "outputs": [],
   "source": [
    "import spacy\n",
    "from spacy import displacy \n",
    "from spacy import tokenizer \n",
    "import re"
   ]
  },
  {
   "cell_type": "code",
   "execution_count": 4,
   "id": "e4bcab30",
   "metadata": {},
   "outputs": [],
   "source": [
    "nlp=spacy.load(\"en_core_web_sm\")"
   ]
  },
  {
   "cell_type": "code",
   "execution_count": 6,
   "id": "ad4a5723",
   "metadata": {},
   "outputs": [
    {
     "name": "stdout",
     "output_type": "stream",
     "text": [
      "It all started with a random letter. Several of those were joined forces to create a random word. The words decided to get together and form a random sentence. They decided not to stop there and it wasn't long before a random paragraph had been cobbled together. The question was whether or not they could continue the momentum long enough to create a random short story.\n"
     ]
    }
   ],
   "source": [
    "text=\"It all started with a random letter. Several of those were joined forces to create a random word. The words decided to get together and form a random sentence. They decided not to stop there and it wasn't long before a random paragraph had been cobbled together. The question was whether or not they could continue the momentum long enough to create a random short story.\"\n",
    "print(text)"
   ]
  },
  {
   "cell_type": "code",
   "execution_count": 7,
   "id": "cc22ecfb",
   "metadata": {},
   "outputs": [],
   "source": [
    "spacy_doc=nlp(text)"
   ]
  },
  {
   "cell_type": "code",
   "execution_count": 9,
   "id": "79f1c497",
   "metadata": {},
   "outputs": [],
   "source": [
    "for word in spacy_doc.ents:\n",
    "    print(word.text, word.label_)"
   ]
  },
  {
   "cell_type": "code",
   "execution_count": 13,
   "id": "6cb617c9",
   "metadata": {},
   "outputs": [
    {
     "data": {
      "text/html": [
       "<span class=\"tex2jax_ignore\"><div class=\"entities\" style=\"line-height: 2.5; direction: ltr\">It all started with a random letter. Several of those were joined forces to create a random word. The words decided to get together and form a random sentence. They decided not to stop there and it wasn't long before a random paragraph had been cobbled together. The question was whether or not they could continue the momentum long enough to create a random short story.</div></span>"
      ],
      "text/plain": [
       "<IPython.core.display.HTML object>"
      ]
     },
     "metadata": {},
     "output_type": "display_data"
    }
   ],
   "source": [
    "displacy.render(spacy_doc, style=\"ent\", jupyter=True)"
   ]
  },
  {
   "cell_type": "code",
   "execution_count": 14,
   "id": "7ecbdc82",
   "metadata": {},
   "outputs": [
    {
     "name": "stdout",
     "output_type": "stream",
     "text": [
      "it all started with a random letter several of those were joined forces to create a random word the words decided to get together and form a random sentence they decided not to stop there and it wasnt long before a random paragraph had been cobbled together the question was whether or not they could continue the momentum long enough to create a random short story\n"
     ]
    }
   ],
   "source": [
    "text_clean=re.sub(r'[^\\w\\s]', '', text).lower()\n",
    "print(text_clean)"
   ]
  },
  {
   "cell_type": "code",
   "execution_count": 16,
   "id": "54156040",
   "metadata": {},
   "outputs": [],
   "source": [
    "spacy_doc_clean=nlp(text_clean)"
   ]
  },
  {
   "cell_type": "code",
   "execution_count": 17,
   "id": "fa0938ab",
   "metadata": {},
   "outputs": [],
   "source": [
    "for word in spacy_doc_clean.ents:\n",
    "    print(word.text, word.label_)\n"
   ]
  },
  {
   "cell_type": "code",
   "execution_count": 20,
   "id": "e26fb5e0",
   "metadata": {},
   "outputs": [
    {
     "data": {
      "text/html": [
       "<span class=\"tex2jax_ignore\"><div class=\"entities\" style=\"line-height: 2.5; direction: ltr\">it all started with a random letter several of those were joined forces to create a random word the words decided to get together and form a random sentence they decided not to stop there and it wasnt long before a random paragraph had been cobbled together the question was whether or not they could continue the momentum long enough to create a random short story</div></span>"
      ],
      "text/plain": [
       "<IPython.core.display.HTML object>"
      ]
     },
     "metadata": {},
     "output_type": "display_data"
    }
   ],
   "source": [
    "displacy.render(spacy_doc_clean, style=\"ent\", jupyter=True)"
   ]
  }
 ],
 "metadata": {
  "kernelspec": {
   "display_name": "nlp_env",
   "language": "python",
   "name": "python3"
  },
  "language_info": {
   "codemirror_mode": {
    "name": "ipython",
    "version": 3
   },
   "file_extension": ".py",
   "mimetype": "text/x-python",
   "name": "python",
   "nbconvert_exporter": "python",
   "pygments_lexer": "ipython3",
   "version": "3.9.23"
  }
 },
 "nbformat": 4,
 "nbformat_minor": 5
}
