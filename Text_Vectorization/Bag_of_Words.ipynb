{
 "cells": [
  {
   "cell_type": "code",
   "execution_count": 1,
   "id": "3e2b7612",
   "metadata": {},
   "outputs": [],
   "source": [
    "import pandas as pd\n",
    "from sklearn.feature_extraction.text import CountVectorizer"
   ]
  },
  {
   "cell_type": "code",
   "execution_count": 5,
   "id": "921fe3a7",
   "metadata": {},
   "outputs": [],
   "source": [
    "data=['The quick brown fox jumps over the lazy dog',\n",
    "      'I love learning new things about machine learning',\n",
    "      'She bought a new laptop for her college projects',\n",
    "      'Data science requires both statistics and programming skills',\n",
    "      'The weather today is surprisingly pleasant and sunny',\n",
    "      'He enjoys reading books on artificial intelligence']\n"
   ]
  },
  {
   "cell_type": "code",
   "execution_count": 2,
   "id": "1167ea48",
   "metadata": {},
   "outputs": [],
   "source": [
    "countvec=CountVectorizer()"
   ]
  },
  {
   "cell_type": "code",
   "execution_count": 6,
   "id": "b28c5274",
   "metadata": {},
   "outputs": [],
   "source": [
    "countvec_fit=countvec.fit_transform(data)"
   ]
  },
  {
   "cell_type": "code",
   "execution_count": 7,
   "id": "2a5de97a",
   "metadata": {},
   "outputs": [],
   "source": [
    "bag_of_words=pd.DataFrame(countvec_fit.toarray(), columns=countvec.get_feature_names_out())"
   ]
  },
  {
   "cell_type": "code",
   "execution_count": 8,
   "id": "1dd50b18",
   "metadata": {},
   "outputs": [
    {
     "name": "stdout",
     "output_type": "stream",
     "text": [
      "   about  and  artificial  books  both  bought  brown  college  data  dog  \\\n",
      "0      0    0           0      0     0       0      1        0     0    1   \n",
      "1      1    0           0      0     0       0      0        0     0    0   \n",
      "2      0    0           0      0     0       1      0        1     0    0   \n",
      "3      0    1           0      0     1       0      0        0     1    0   \n",
      "4      0    1           0      0     0       0      0        0     0    0   \n",
      "5      0    0           1      1     0       0      0        0     0    0   \n",
      "\n",
      "   ...  science  she  skills  statistics  sunny  surprisingly  the  things  \\\n",
      "0  ...        0    0       0           0      0             0    2       0   \n",
      "1  ...        0    0       0           0      0             0    0       1   \n",
      "2  ...        0    1       0           0      0             0    0       0   \n",
      "3  ...        1    0       1           1      0             0    0       0   \n",
      "4  ...        0    0       0           0      1             1    1       0   \n",
      "5  ...        0    0       0           0      0             0    0       0   \n",
      "\n",
      "   today  weather  \n",
      "0      0        0  \n",
      "1      0        0  \n",
      "2      0        0  \n",
      "3      0        0  \n",
      "4      1        1  \n",
      "5      0        0  \n",
      "\n",
      "[6 rows x 42 columns]\n"
     ]
    }
   ],
   "source": [
    "print(bag_of_words)"
   ]
  }
 ],
 "metadata": {
  "kernelspec": {
   "display_name": "nlp_env",
   "language": "python",
   "name": "python3"
  },
  "language_info": {
   "codemirror_mode": {
    "name": "ipython",
    "version": 3
   },
   "file_extension": ".py",
   "mimetype": "text/x-python",
   "name": "python",
   "nbconvert_exporter": "python",
   "pygments_lexer": "ipython3",
   "version": "3.9.23"
  }
 },
 "nbformat": 4,
 "nbformat_minor": 5
}
