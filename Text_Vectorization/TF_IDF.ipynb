{
 "cells": [
  {
   "cell_type": "code",
   "execution_count": 2,
   "id": "6ebd07c5",
   "metadata": {},
   "outputs": [],
   "source": [
    "import pandas as pd\n",
    "from sklearn.feature_extraction.text import CountVectorizer"
   ]
  },
  {
   "cell_type": "code",
   "execution_count": 3,
   "id": "ef326859",
   "metadata": {},
   "outputs": [],
   "source": [
    "from sklearn.feature_extraction.text import TfidfVectorizer"
   ]
  },
  {
   "cell_type": "code",
   "execution_count": 5,
   "id": "af617a31",
   "metadata": {},
   "outputs": [],
   "source": [
    "data=['The quick brown fox jumps over the lazy dog',\n",
    "      'I love learning new things about machine learning',\n",
    "      'She bought a new laptop for her college projects',\n",
    "      'Data science requires both statistics and programming skills',\n",
    "      'The weather today is surprisingly pleasant and sunny',\n",
    "      'He enjoys reading books on artificial intelligence']\n"
   ]
  },
  {
   "cell_type": "code",
   "execution_count": 4,
   "id": "65d2cc7e",
   "metadata": {},
   "outputs": [],
   "source": [
    "tfidfvec=TfidfVectorizer()"
   ]
  },
  {
   "cell_type": "code",
   "execution_count": 6,
   "id": "90f54d44",
   "metadata": {},
   "outputs": [],
   "source": [
    "tfidfvec_fit=tfidfvec.fit_transform(data)"
   ]
  },
  {
   "cell_type": "code",
   "execution_count": 7,
   "id": "eb4ffe0b",
   "metadata": {},
   "outputs": [],
   "source": [
    "tfidf_bag=pd.DataFrame(tfidfvec_fit.toarray(), columns=tfidfvec.get_feature_names_out())"
   ]
  },
  {
   "cell_type": "code",
   "execution_count": 8,
   "id": "30e34e4a",
   "metadata": {},
   "outputs": [
    {
     "name": "stdout",
     "output_type": "stream",
     "text": [
      "     about       and  artificial     books      both    bought     brown  \\\n",
      "0  0.00000  0.000000    0.000000  0.000000  0.000000  0.000000  0.321251   \n",
      "1  0.33957  0.000000    0.000000  0.000000  0.000000  0.000000  0.000000   \n",
      "2  0.00000  0.000000    0.000000  0.000000  0.000000  0.361022  0.000000   \n",
      "3  0.00000  0.296043    0.000000  0.000000  0.361022  0.000000  0.000000   \n",
      "4  0.00000  0.302573    0.000000  0.000000  0.000000  0.000000  0.000000   \n",
      "5  0.00000  0.000000    0.377964  0.377964  0.000000  0.000000  0.000000   \n",
      "\n",
      "    college      data       dog  ...   science       she    skills  \\\n",
      "0  0.000000  0.000000  0.321251  ...  0.000000  0.000000  0.000000   \n",
      "1  0.000000  0.000000  0.000000  ...  0.000000  0.000000  0.000000   \n",
      "2  0.361022  0.000000  0.000000  ...  0.000000  0.361022  0.000000   \n",
      "3  0.000000  0.361022  0.000000  ...  0.361022  0.000000  0.361022   \n",
      "4  0.000000  0.000000  0.000000  ...  0.000000  0.000000  0.000000   \n",
      "5  0.000000  0.000000  0.000000  ...  0.000000  0.000000  0.000000   \n",
      "\n",
      "   statistics     sunny  surprisingly       the   things     today   weather  \n",
      "0    0.000000  0.000000      0.000000  0.526861  0.00000  0.000000  0.000000  \n",
      "1    0.000000  0.000000      0.000000  0.000000  0.33957  0.000000  0.000000  \n",
      "2    0.000000  0.000000      0.000000  0.000000  0.00000  0.000000  0.000000  \n",
      "3    0.361022  0.000000      0.000000  0.000000  0.00000  0.000000  0.000000  \n",
      "4    0.000000  0.368985      0.368985  0.302573  0.00000  0.368985  0.368985  \n",
      "5    0.000000  0.000000      0.000000  0.000000  0.00000  0.000000  0.000000  \n",
      "\n",
      "[6 rows x 42 columns]\n"
     ]
    }
   ],
   "source": [
    "print(tfidf_bag)"
   ]
  }
 ],
 "metadata": {
  "kernelspec": {
   "display_name": "nlp_env",
   "language": "python",
   "name": "python3"
  },
  "language_info": {
   "codemirror_mode": {
    "name": "ipython",
    "version": 3
   },
   "file_extension": ".py",
   "mimetype": "text/x-python",
   "name": "python",
   "nbconvert_exporter": "python",
   "pygments_lexer": "ipython3",
   "version": "3.9.23"
  }
 },
 "nbformat": 4,
 "nbformat_minor": 5
}
