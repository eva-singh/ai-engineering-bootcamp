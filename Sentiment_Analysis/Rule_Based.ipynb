{
 "cells": [
  {
   "cell_type": "code",
   "execution_count": 3,
   "id": "c63bad9c",
   "metadata": {},
   "outputs": [
    {
     "name": "stdout",
     "output_type": "stream",
     "text": [
      "Collecting textblob\n",
      "  Using cached textblob-0.19.0-py3-none-any.whl.metadata (4.4 kB)\n",
      "Requirement already satisfied: nltk>=3.9 in c:\\users\\lenovo\\anaconda3\\envs\\nlp_env\\lib\\site-packages (from textblob) (3.9.1)\n",
      "Requirement already satisfied: click in c:\\users\\lenovo\\anaconda3\\envs\\nlp_env\\lib\\site-packages (from nltk>=3.9->textblob) (8.1.8)\n",
      "Requirement already satisfied: joblib in c:\\users\\lenovo\\anaconda3\\envs\\nlp_env\\lib\\site-packages (from nltk>=3.9->textblob) (1.5.1)\n",
      "Requirement already satisfied: regex>=2021.8.3 in c:\\users\\lenovo\\anaconda3\\envs\\nlp_env\\lib\\site-packages (from nltk>=3.9->textblob) (2024.11.6)\n",
      "Requirement already satisfied: tqdm in c:\\users\\lenovo\\anaconda3\\envs\\nlp_env\\lib\\site-packages (from nltk>=3.9->textblob) (4.67.1)\n",
      "Requirement already satisfied: colorama in c:\\users\\lenovo\\anaconda3\\envs\\nlp_env\\lib\\site-packages (from click->nltk>=3.9->textblob) (0.4.6)\n",
      "Using cached textblob-0.19.0-py3-none-any.whl (624 kB)\n",
      "Installing collected packages: textblob\n",
      "Successfully installed textblob-0.19.0\n"
     ]
    }
   ],
   "source": [
    "!pip install textblob"
   ]
  },
  {
   "cell_type": "code",
   "execution_count": 15,
   "id": "a73a29d3",
   "metadata": {},
   "outputs": [
    {
     "name": "stdout",
     "output_type": "stream",
     "text": [
      "Requirement already satisfied: vaderSentiment in c:\\users\\lenovo\\anaconda3\\envs\\nlp_env\\lib\\site-packages (3.3.2)\n",
      "Requirement already satisfied: requests in c:\\users\\lenovo\\anaconda3\\envs\\nlp_env\\lib\\site-packages (from vaderSentiment) (2.32.4)\n",
      "Requirement already satisfied: charset_normalizer<4,>=2 in c:\\users\\lenovo\\anaconda3\\envs\\nlp_env\\lib\\site-packages (from requests->vaderSentiment) (3.4.2)\n",
      "Requirement already satisfied: idna<4,>=2.5 in c:\\users\\lenovo\\anaconda3\\envs\\nlp_env\\lib\\site-packages (from requests->vaderSentiment) (3.10)\n",
      "Requirement already satisfied: urllib3<3,>=1.21.1 in c:\\users\\lenovo\\anaconda3\\envs\\nlp_env\\lib\\site-packages (from requests->vaderSentiment) (2.5.0)\n",
      "Requirement already satisfied: certifi>=2017.4.17 in c:\\users\\lenovo\\anaconda3\\envs\\nlp_env\\lib\\site-packages (from requests->vaderSentiment) (2025.6.15)\n"
     ]
    }
   ],
   "source": [
    "!pip install vaderSentiment"
   ]
  },
  {
   "cell_type": "code",
   "execution_count": null,
   "id": "26ac747d",
   "metadata": {},
   "outputs": [],
   "source": []
  },
  {
   "cell_type": "code",
   "execution_count": 5,
   "id": "302bed88",
   "metadata": {},
   "outputs": [],
   "source": [
    "sentence_1=\"i had a great time at the movie it was really funny\"\n",
    "sentence_2=\"i had a great time at the movie but the parking was terrible \"\n",
    "sentence_3=\"i had a great time at the movie but the parking wasn't great\"\n",
    "sentence_4=\"i went to see a movie\""
   ]
  },
  {
   "cell_type": "markdown",
   "id": "89202f0e",
   "metadata": {},
   "source": [
    "TextBlob"
   ]
  },
  {
   "cell_type": "code",
   "execution_count": 4,
   "id": "a30cd02a",
   "metadata": {},
   "outputs": [],
   "source": [
    "from textblob import TextBlob"
   ]
  },
  {
   "cell_type": "code",
   "execution_count": 7,
   "id": "23a93df0",
   "metadata": {},
   "outputs": [
    {
     "name": "stdout",
     "output_type": "stream",
     "text": [
      "i had a great time at the movie it was really funny\n",
      "0.525\n"
     ]
    }
   ],
   "source": [
    "print(sentence_1)\n",
    "sentiment_score_1=TextBlob(sentence_1)\n",
    "print(sentiment_score_1.sentiment.polarity)"
   ]
  },
  {
   "cell_type": "code",
   "execution_count": 8,
   "id": "f5f2a026",
   "metadata": {},
   "outputs": [
    {
     "name": "stdout",
     "output_type": "stream",
     "text": [
      "i had a great time at the movie but the parking was terrible \n",
      "-0.09999999999999998\n"
     ]
    }
   ],
   "source": [
    "print(sentence_2)\n",
    "sentiment_score_2=TextBlob(sentence_2)\n",
    "print(sentiment_score_2.sentiment.polarity)"
   ]
  },
  {
   "cell_type": "code",
   "execution_count": 9,
   "id": "e0004f54",
   "metadata": {},
   "outputs": [
    {
     "name": "stdout",
     "output_type": "stream",
     "text": [
      "i had a great time at the movie but the parking wasn't great\n",
      "0.8\n"
     ]
    }
   ],
   "source": [
    "print(sentence_3)\n",
    "sentence_score_3=TextBlob(sentence_3)\n",
    "print(sentence_score_3.sentiment.polarity)"
   ]
  },
  {
   "cell_type": "code",
   "execution_count": 10,
   "id": "dd1f3806",
   "metadata": {},
   "outputs": [
    {
     "name": "stdout",
     "output_type": "stream",
     "text": [
      "i went to see a movie\n",
      "0.0\n"
     ]
    }
   ],
   "source": [
    "print(sentence_4)\n",
    "sentence_score_4=TextBlob(sentence_4)\n",
    "print(sentence_score_4.sentiment.polarity)"
   ]
  },
  {
   "cell_type": "markdown",
   "id": "ee223608",
   "metadata": {},
   "source": [
    "Vader\n"
   ]
  },
  {
   "cell_type": "code",
   "execution_count": 18,
   "id": "ea081f75",
   "metadata": {},
   "outputs": [],
   "source": [
    "from vaderSentiment.vaderSentiment import SentimentIntensityAnalyzer"
   ]
  },
  {
   "cell_type": "code",
   "execution_count": 19,
   "id": "885ed17d",
   "metadata": {},
   "outputs": [],
   "source": [
    "vader_sentiment=SentimentIntensityAnalyzer()"
   ]
  },
  {
   "cell_type": "code",
   "execution_count": 20,
   "id": "2565afe9",
   "metadata": {},
   "outputs": [
    {
     "name": "stdout",
     "output_type": "stream",
     "text": [
      "i had a great time at the movie it was really funny\n",
      "{'neg': 0.0, 'neu': 0.578, 'pos': 0.422, 'compound': 0.807}\n"
     ]
    }
   ],
   "source": [
    "print(sentence_1)\n",
    "print(vader_sentiment.polarity_scores(sentence_1))"
   ]
  },
  {
   "cell_type": "code",
   "execution_count": 21,
   "id": "20377dd9",
   "metadata": {},
   "outputs": [
    {
     "name": "stdout",
     "output_type": "stream",
     "text": [
      "i had a great time at the movie but the parking was terrible \n",
      "{'neg': 0.234, 'neu': 0.621, 'pos': 0.144, 'compound': -0.3818}\n"
     ]
    }
   ],
   "source": [
    "print(sentence_2)\n",
    "print(vader_sentiment.polarity_scores(sentence_2))"
   ]
  },
  {
   "cell_type": "code",
   "execution_count": 22,
   "id": "4cb64500",
   "metadata": {},
   "outputs": [
    {
     "name": "stdout",
     "output_type": "stream",
     "text": [
      "i had a great time at the movie but the parking wasn't great\n",
      "{'neg': 0.247, 'neu': 0.611, 'pos': 0.142, 'compound': -0.4387}\n"
     ]
    }
   ],
   "source": [
    "print(sentence_3)\n",
    "print(vader_sentiment.polarity_scores(sentence_3))"
   ]
  },
  {
   "cell_type": "code",
   "execution_count": 23,
   "id": "7879611b",
   "metadata": {},
   "outputs": [
    {
     "name": "stdout",
     "output_type": "stream",
     "text": [
      "i went to see a movie\n",
      "{'neg': 0.0, 'neu': 1.0, 'pos': 0.0, 'compound': 0.0}\n"
     ]
    }
   ],
   "source": [
    "print(sentence_4)\n",
    "print(vader_sentiment.polarity_scores(sentence_4))"
   ]
  },
  {
   "cell_type": "markdown",
   "id": "7cd971c6",
   "metadata": {},
   "source": [
    "Pre-Trained Transformer"
   ]
  },
  {
   "cell_type": "code",
   "execution_count": 2,
   "id": "8528e556",
   "metadata": {},
   "outputs": [],
   "source": [
    "import transformers\n",
    "from transformers import pipeline"
   ]
  },
  {
   "cell_type": "code",
   "execution_count": 3,
   "id": "915915ba",
   "metadata": {},
   "outputs": [
    {
     "name": "stderr",
     "output_type": "stream",
     "text": [
      "No model was supplied, defaulted to distilbert/distilbert-base-uncased-finetuned-sst-2-english and revision 714eb0f (https://huggingface.co/distilbert/distilbert-base-uncased-finetuned-sst-2-english).\n",
      "Using a pipeline without specifying a model name and revision in production is not recommended.\n",
      "c:\\Users\\lenovo\\anaconda3\\envs\\nlp_env\\lib\\site-packages\\huggingface_hub\\file_download.py:143: UserWarning: `huggingface_hub` cache-system uses symlinks by default to efficiently store duplicated files but your machine does not support them in C:\\Users\\lenovo\\.cache\\huggingface\\hub\\models--distilbert--distilbert-base-uncased-finetuned-sst-2-english. Caching files will still work but in a degraded version that might require more space on your disk. This warning can be disabled by setting the `HF_HUB_DISABLE_SYMLINKS_WARNING` environment variable. For more details, see https://huggingface.co/docs/huggingface_hub/how-to-cache#limitations.\n",
      "To support symlinks on Windows, you either need to activate Developer Mode or to run Python as an administrator. In order to activate developer mode, see this article: https://docs.microsoft.com/en-us/windows/apps/get-started/enable-your-device-for-development\n",
      "  warnings.warn(message)\n",
      "Device set to use cpu\n"
     ]
    }
   ],
   "source": [
    "sentiment_pipeline=pipeline(\"sentiment-analysis\")"
   ]
  },
  {
   "cell_type": "code",
   "execution_count": 6,
   "id": "a5f40c94",
   "metadata": {},
   "outputs": [
    {
     "name": "stdout",
     "output_type": "stream",
     "text": [
      "i had a great time at the movie it was really funny\n"
     ]
    },
    {
     "data": {
      "text/plain": [
       "[{'label': 'POSITIVE', 'score': 0.9998176693916321}]"
      ]
     },
     "execution_count": 6,
     "metadata": {},
     "output_type": "execute_result"
    }
   ],
   "source": [
    "print(sentence_1)\n",
    "sentiment_pipeline(sentence_1)"
   ]
  },
  {
   "cell_type": "code",
   "execution_count": 7,
   "id": "ecc978db",
   "metadata": {},
   "outputs": [
    {
     "name": "stdout",
     "output_type": "stream",
     "text": [
      "i had a great time at the movie but the parking was terrible \n"
     ]
    },
    {
     "data": {
      "text/plain": [
       "[{'label': 'NEGATIVE', 'score': 0.9977464079856873}]"
      ]
     },
     "execution_count": 7,
     "metadata": {},
     "output_type": "execute_result"
    }
   ],
   "source": [
    "print(sentence_2)\n",
    "sentiment_pipeline(sentence_2)"
   ]
  }
 ],
 "metadata": {
  "kernelspec": {
   "display_name": "nlp_env",
   "language": "python",
   "name": "python3"
  },
  "language_info": {
   "codemirror_mode": {
    "name": "ipython",
    "version": 3
   },
   "file_extension": ".py",
   "mimetype": "text/x-python",
   "name": "python",
   "nbconvert_exporter": "python",
   "pygments_lexer": "ipython3",
   "version": "3.9.23"
  }
 },
 "nbformat": 4,
 "nbformat_minor": 5
}
